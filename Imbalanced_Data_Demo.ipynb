{
  "cells": [
    {
      "cell_type": "markdown",
      "metadata": {
        "id": "view-in-github",
        "colab_type": "text"
      },
      "source": [
        "<a href=\"https://colab.research.google.com/github/pascal-maker/machinelearning/blob/main/Imbalanced_Data_Demo.ipynb\" target=\"_parent\"><img src=\"https://colab.research.google.com/assets/colab-badge.svg\" alt=\"Open In Colab\"/></a>"
      ]
    },
    {
      "cell_type": "markdown",
      "metadata": {
        "id": "jseYVKF_3mun"
      },
      "source": [
        "# Imbalanced data"
      ]
    },
    {
      "cell_type": "code",
      "execution_count": null,
      "metadata": {
        "id": "70sjmpi83muo"
      },
      "outputs": [],
      "source": [
        "%matplotlib inline\n",
        "import matplotlib.pyplot as plt\n",
        "import pandas as pd\n",
        "import numpy as np\n",
        "\n",
        "import seaborn as sns\n",
        "from sklearn.preprocessing import MinMaxScaler\n",
        "from sklearn.preprocessing import StandardScaler\n",
        "from sklearn.metrics import confusion_matrix,accuracy_score\n",
        "from sklearn.model_selection import train_test_split\n",
        "from sklearn.metrics import classification_report\n",
        "from sklearn.metrics import confusion_matrix, accuracy_score\n",
        "from sklearn.preprocessing import OneHotEncoder\n",
        "from sklearn import preprocessing\n",
        "from sklearn.preprocessing import LabelBinarizer\n",
        "import matplotlib.image as mpimg\n",
        "from sklearn.linear_model import LogisticRegression\n",
        "from sklearn.svm import SVC\n",
        "from sklearn.metrics import precision_recall_curve\n",
        "from sklearn.metrics import PrecisionRecallDisplay\n",
        "import sklearn.metrics as metrics\n",
        "\n",
        "from sklearn.utils import class_weight\n",
        "\n",
        "import re\n",
        "\n",
        "\n",
        "pd.set_option('display.max_rows',1000)\n",
        "pd.set_option('display.max_columns',1000)"
      ]
    },
    {
      "cell_type": "code",
      "execution_count": null,
      "metadata": {
        "colab": {
          "base_uri": "https://localhost:8080/",
          "height": 226
        },
        "id": "6GQaUcHI3mup",
        "outputId": "bf1d1b51-2b06-47f4-b1af-969036fbd397"
      },
      "outputs": [
        {
          "output_type": "execute_result",
          "data": {
            "text/plain": [
              "       age           job   marital  education default  balance housing loan  \\\n",
              "45206   51    technician   married   tertiary      no      825      no   no   \n",
              "45207   71       retired  divorced    primary      no     1729      no   no   \n",
              "45208   72       retired   married  secondary      no     5715      no   no   \n",
              "45209   57   blue-collar   married  secondary      no      668      no   no   \n",
              "45210   37  entrepreneur   married  secondary      no     2971      no   no   \n",
              "\n",
              "         contact  day month  duration  campaign  pdays  previous poutcome    y  \n",
              "45206   cellular   17   nov       977         3     -1         0  unknown  yes  \n",
              "45207   cellular   17   nov       456         2     -1         0  unknown  yes  \n",
              "45208   cellular   17   nov      1127         5    184         3  success  yes  \n",
              "45209  telephone   17   nov       508         4     -1         0  unknown   no  \n",
              "45210   cellular   17   nov       361         2    188        11    other   no  "
            ],
            "text/html": [
              "\n",
              "  <div id=\"df-1a6dbeb7-4010-4a40-b1e5-410a952ff46a\" class=\"colab-df-container\">\n",
              "    <div>\n",
              "<style scoped>\n",
              "    .dataframe tbody tr th:only-of-type {\n",
              "        vertical-align: middle;\n",
              "    }\n",
              "\n",
              "    .dataframe tbody tr th {\n",
              "        vertical-align: top;\n",
              "    }\n",
              "\n",
              "    .dataframe thead th {\n",
              "        text-align: right;\n",
              "    }\n",
              "</style>\n",
              "<table border=\"1\" class=\"dataframe\">\n",
              "  <thead>\n",
              "    <tr style=\"text-align: right;\">\n",
              "      <th></th>\n",
              "      <th>age</th>\n",
              "      <th>job</th>\n",
              "      <th>marital</th>\n",
              "      <th>education</th>\n",
              "      <th>default</th>\n",
              "      <th>balance</th>\n",
              "      <th>housing</th>\n",
              "      <th>loan</th>\n",
              "      <th>contact</th>\n",
              "      <th>day</th>\n",
              "      <th>month</th>\n",
              "      <th>duration</th>\n",
              "      <th>campaign</th>\n",
              "      <th>pdays</th>\n",
              "      <th>previous</th>\n",
              "      <th>poutcome</th>\n",
              "      <th>y</th>\n",
              "    </tr>\n",
              "  </thead>\n",
              "  <tbody>\n",
              "    <tr>\n",
              "      <th>45206</th>\n",
              "      <td>51</td>\n",
              "      <td>technician</td>\n",
              "      <td>married</td>\n",
              "      <td>tertiary</td>\n",
              "      <td>no</td>\n",
              "      <td>825</td>\n",
              "      <td>no</td>\n",
              "      <td>no</td>\n",
              "      <td>cellular</td>\n",
              "      <td>17</td>\n",
              "      <td>nov</td>\n",
              "      <td>977</td>\n",
              "      <td>3</td>\n",
              "      <td>-1</td>\n",
              "      <td>0</td>\n",
              "      <td>unknown</td>\n",
              "      <td>yes</td>\n",
              "    </tr>\n",
              "    <tr>\n",
              "      <th>45207</th>\n",
              "      <td>71</td>\n",
              "      <td>retired</td>\n",
              "      <td>divorced</td>\n",
              "      <td>primary</td>\n",
              "      <td>no</td>\n",
              "      <td>1729</td>\n",
              "      <td>no</td>\n",
              "      <td>no</td>\n",
              "      <td>cellular</td>\n",
              "      <td>17</td>\n",
              "      <td>nov</td>\n",
              "      <td>456</td>\n",
              "      <td>2</td>\n",
              "      <td>-1</td>\n",
              "      <td>0</td>\n",
              "      <td>unknown</td>\n",
              "      <td>yes</td>\n",
              "    </tr>\n",
              "    <tr>\n",
              "      <th>45208</th>\n",
              "      <td>72</td>\n",
              "      <td>retired</td>\n",
              "      <td>married</td>\n",
              "      <td>secondary</td>\n",
              "      <td>no</td>\n",
              "      <td>5715</td>\n",
              "      <td>no</td>\n",
              "      <td>no</td>\n",
              "      <td>cellular</td>\n",
              "      <td>17</td>\n",
              "      <td>nov</td>\n",
              "      <td>1127</td>\n",
              "      <td>5</td>\n",
              "      <td>184</td>\n",
              "      <td>3</td>\n",
              "      <td>success</td>\n",
              "      <td>yes</td>\n",
              "    </tr>\n",
              "    <tr>\n",
              "      <th>45209</th>\n",
              "      <td>57</td>\n",
              "      <td>blue-collar</td>\n",
              "      <td>married</td>\n",
              "      <td>secondary</td>\n",
              "      <td>no</td>\n",
              "      <td>668</td>\n",
              "      <td>no</td>\n",
              "      <td>no</td>\n",
              "      <td>telephone</td>\n",
              "      <td>17</td>\n",
              "      <td>nov</td>\n",
              "      <td>508</td>\n",
              "      <td>4</td>\n",
              "      <td>-1</td>\n",
              "      <td>0</td>\n",
              "      <td>unknown</td>\n",
              "      <td>no</td>\n",
              "    </tr>\n",
              "    <tr>\n",
              "      <th>45210</th>\n",
              "      <td>37</td>\n",
              "      <td>entrepreneur</td>\n",
              "      <td>married</td>\n",
              "      <td>secondary</td>\n",
              "      <td>no</td>\n",
              "      <td>2971</td>\n",
              "      <td>no</td>\n",
              "      <td>no</td>\n",
              "      <td>cellular</td>\n",
              "      <td>17</td>\n",
              "      <td>nov</td>\n",
              "      <td>361</td>\n",
              "      <td>2</td>\n",
              "      <td>188</td>\n",
              "      <td>11</td>\n",
              "      <td>other</td>\n",
              "      <td>no</td>\n",
              "    </tr>\n",
              "  </tbody>\n",
              "</table>\n",
              "</div>\n",
              "    <div class=\"colab-df-buttons\">\n",
              "\n",
              "  <div class=\"colab-df-container\">\n",
              "    <button class=\"colab-df-convert\" onclick=\"convertToInteractive('df-1a6dbeb7-4010-4a40-b1e5-410a952ff46a')\"\n",
              "            title=\"Convert this dataframe to an interactive table.\"\n",
              "            style=\"display:none;\">\n",
              "\n",
              "  <svg xmlns=\"http://www.w3.org/2000/svg\" height=\"24px\" viewBox=\"0 -960 960 960\">\n",
              "    <path d=\"M120-120v-720h720v720H120Zm60-500h600v-160H180v160Zm220 220h160v-160H400v160Zm0 220h160v-160H400v160ZM180-400h160v-160H180v160Zm440 0h160v-160H620v160ZM180-180h160v-160H180v160Zm440 0h160v-160H620v160Z\"/>\n",
              "  </svg>\n",
              "    </button>\n",
              "\n",
              "  <style>\n",
              "    .colab-df-container {\n",
              "      display:flex;\n",
              "      gap: 12px;\n",
              "    }\n",
              "\n",
              "    .colab-df-convert {\n",
              "      background-color: #E8F0FE;\n",
              "      border: none;\n",
              "      border-radius: 50%;\n",
              "      cursor: pointer;\n",
              "      display: none;\n",
              "      fill: #1967D2;\n",
              "      height: 32px;\n",
              "      padding: 0 0 0 0;\n",
              "      width: 32px;\n",
              "    }\n",
              "\n",
              "    .colab-df-convert:hover {\n",
              "      background-color: #E2EBFA;\n",
              "      box-shadow: 0px 1px 2px rgba(60, 64, 67, 0.3), 0px 1px 3px 1px rgba(60, 64, 67, 0.15);\n",
              "      fill: #174EA6;\n",
              "    }\n",
              "\n",
              "    .colab-df-buttons div {\n",
              "      margin-bottom: 4px;\n",
              "    }\n",
              "\n",
              "    [theme=dark] .colab-df-convert {\n",
              "      background-color: #3B4455;\n",
              "      fill: #D2E3FC;\n",
              "    }\n",
              "\n",
              "    [theme=dark] .colab-df-convert:hover {\n",
              "      background-color: #434B5C;\n",
              "      box-shadow: 0px 1px 3px 1px rgba(0, 0, 0, 0.15);\n",
              "      filter: drop-shadow(0px 1px 2px rgba(0, 0, 0, 0.3));\n",
              "      fill: #FFFFFF;\n",
              "    }\n",
              "  </style>\n",
              "\n",
              "    <script>\n",
              "      const buttonEl =\n",
              "        document.querySelector('#df-1a6dbeb7-4010-4a40-b1e5-410a952ff46a button.colab-df-convert');\n",
              "      buttonEl.style.display =\n",
              "        google.colab.kernel.accessAllowed ? 'block' : 'none';\n",
              "\n",
              "      async function convertToInteractive(key) {\n",
              "        const element = document.querySelector('#df-1a6dbeb7-4010-4a40-b1e5-410a952ff46a');\n",
              "        const dataTable =\n",
              "          await google.colab.kernel.invokeFunction('convertToInteractive',\n",
              "                                                    [key], {});\n",
              "        if (!dataTable) return;\n",
              "\n",
              "        const docLinkHtml = 'Like what you see? Visit the ' +\n",
              "          '<a target=\"_blank\" href=https://colab.research.google.com/notebooks/data_table.ipynb>data table notebook</a>'\n",
              "          + ' to learn more about interactive tables.';\n",
              "        element.innerHTML = '';\n",
              "        dataTable['output_type'] = 'display_data';\n",
              "        await google.colab.output.renderOutput(dataTable, element);\n",
              "        const docLink = document.createElement('div');\n",
              "        docLink.innerHTML = docLinkHtml;\n",
              "        element.appendChild(docLink);\n",
              "      }\n",
              "    </script>\n",
              "  </div>\n",
              "\n",
              "\n",
              "    <div id=\"df-8d6612f5-d6c4-493c-9f88-552eaa9c101b\">\n",
              "      <button class=\"colab-df-quickchart\" onclick=\"quickchart('df-8d6612f5-d6c4-493c-9f88-552eaa9c101b')\"\n",
              "                title=\"Suggest charts\"\n",
              "                style=\"display:none;\">\n",
              "\n",
              "<svg xmlns=\"http://www.w3.org/2000/svg\" height=\"24px\"viewBox=\"0 0 24 24\"\n",
              "     width=\"24px\">\n",
              "    <g>\n",
              "        <path d=\"M19 3H5c-1.1 0-2 .9-2 2v14c0 1.1.9 2 2 2h14c1.1 0 2-.9 2-2V5c0-1.1-.9-2-2-2zM9 17H7v-7h2v7zm4 0h-2V7h2v10zm4 0h-2v-4h2v4z\"/>\n",
              "    </g>\n",
              "</svg>\n",
              "      </button>\n",
              "\n",
              "<style>\n",
              "  .colab-df-quickchart {\n",
              "      --bg-color: #E8F0FE;\n",
              "      --fill-color: #1967D2;\n",
              "      --hover-bg-color: #E2EBFA;\n",
              "      --hover-fill-color: #174EA6;\n",
              "      --disabled-fill-color: #AAA;\n",
              "      --disabled-bg-color: #DDD;\n",
              "  }\n",
              "\n",
              "  [theme=dark] .colab-df-quickchart {\n",
              "      --bg-color: #3B4455;\n",
              "      --fill-color: #D2E3FC;\n",
              "      --hover-bg-color: #434B5C;\n",
              "      --hover-fill-color: #FFFFFF;\n",
              "      --disabled-bg-color: #3B4455;\n",
              "      --disabled-fill-color: #666;\n",
              "  }\n",
              "\n",
              "  .colab-df-quickchart {\n",
              "    background-color: var(--bg-color);\n",
              "    border: none;\n",
              "    border-radius: 50%;\n",
              "    cursor: pointer;\n",
              "    display: none;\n",
              "    fill: var(--fill-color);\n",
              "    height: 32px;\n",
              "    padding: 0;\n",
              "    width: 32px;\n",
              "  }\n",
              "\n",
              "  .colab-df-quickchart:hover {\n",
              "    background-color: var(--hover-bg-color);\n",
              "    box-shadow: 0 1px 2px rgba(60, 64, 67, 0.3), 0 1px 3px 1px rgba(60, 64, 67, 0.15);\n",
              "    fill: var(--button-hover-fill-color);\n",
              "  }\n",
              "\n",
              "  .colab-df-quickchart-complete:disabled,\n",
              "  .colab-df-quickchart-complete:disabled:hover {\n",
              "    background-color: var(--disabled-bg-color);\n",
              "    fill: var(--disabled-fill-color);\n",
              "    box-shadow: none;\n",
              "  }\n",
              "\n",
              "  .colab-df-spinner {\n",
              "    border: 2px solid var(--fill-color);\n",
              "    border-color: transparent;\n",
              "    border-bottom-color: var(--fill-color);\n",
              "    animation:\n",
              "      spin 1s steps(1) infinite;\n",
              "  }\n",
              "\n",
              "  @keyframes spin {\n",
              "    0% {\n",
              "      border-color: transparent;\n",
              "      border-bottom-color: var(--fill-color);\n",
              "      border-left-color: var(--fill-color);\n",
              "    }\n",
              "    20% {\n",
              "      border-color: transparent;\n",
              "      border-left-color: var(--fill-color);\n",
              "      border-top-color: var(--fill-color);\n",
              "    }\n",
              "    30% {\n",
              "      border-color: transparent;\n",
              "      border-left-color: var(--fill-color);\n",
              "      border-top-color: var(--fill-color);\n",
              "      border-right-color: var(--fill-color);\n",
              "    }\n",
              "    40% {\n",
              "      border-color: transparent;\n",
              "      border-right-color: var(--fill-color);\n",
              "      border-top-color: var(--fill-color);\n",
              "    }\n",
              "    60% {\n",
              "      border-color: transparent;\n",
              "      border-right-color: var(--fill-color);\n",
              "    }\n",
              "    80% {\n",
              "      border-color: transparent;\n",
              "      border-right-color: var(--fill-color);\n",
              "      border-bottom-color: var(--fill-color);\n",
              "    }\n",
              "    90% {\n",
              "      border-color: transparent;\n",
              "      border-bottom-color: var(--fill-color);\n",
              "    }\n",
              "  }\n",
              "</style>\n",
              "\n",
              "      <script>\n",
              "        async function quickchart(key) {\n",
              "          const quickchartButtonEl =\n",
              "            document.querySelector('#' + key + ' button');\n",
              "          quickchartButtonEl.disabled = true;  // To prevent multiple clicks.\n",
              "          quickchartButtonEl.classList.add('colab-df-spinner');\n",
              "          try {\n",
              "            const charts = await google.colab.kernel.invokeFunction(\n",
              "                'suggestCharts', [key], {});\n",
              "          } catch (error) {\n",
              "            console.error('Error during call to suggestCharts:', error);\n",
              "          }\n",
              "          quickchartButtonEl.classList.remove('colab-df-spinner');\n",
              "          quickchartButtonEl.classList.add('colab-df-quickchart-complete');\n",
              "        }\n",
              "        (() => {\n",
              "          let quickchartButtonEl =\n",
              "            document.querySelector('#df-8d6612f5-d6c4-493c-9f88-552eaa9c101b button');\n",
              "          quickchartButtonEl.style.display =\n",
              "            google.colab.kernel.accessAllowed ? 'block' : 'none';\n",
              "        })();\n",
              "      </script>\n",
              "    </div>\n",
              "\n",
              "    </div>\n",
              "  </div>\n"
            ],
            "application/vnd.google.colaboratory.intrinsic+json": {
              "type": "dataframe",
              "summary": "{\n  \"name\": \"dataset\",\n  \"rows\": 5,\n  \"fields\": [\n    {\n      \"column\": \"age\",\n      \"properties\": {\n        \"dtype\": \"number\",\n        \"std\": 14,\n        \"min\": 37,\n        \"max\": 72,\n        \"num_unique_values\": 5,\n        \"samples\": [\n          71,\n          37,\n          72\n        ],\n        \"semantic_type\": \"\",\n        \"description\": \"\"\n      }\n    },\n    {\n      \"column\": \"job\",\n      \"properties\": {\n        \"dtype\": \"string\",\n        \"num_unique_values\": 4,\n        \"samples\": [\n          \"retired\",\n          \"entrepreneur\",\n          \"technician\"\n        ],\n        \"semantic_type\": \"\",\n        \"description\": \"\"\n      }\n    },\n    {\n      \"column\": \"marital\",\n      \"properties\": {\n        \"dtype\": \"category\",\n        \"num_unique_values\": 2,\n        \"samples\": [\n          \"divorced\",\n          \"married\"\n        ],\n        \"semantic_type\": \"\",\n        \"description\": \"\"\n      }\n    },\n    {\n      \"column\": \"education\",\n      \"properties\": {\n        \"dtype\": \"string\",\n        \"num_unique_values\": 3,\n        \"samples\": [\n          \"tertiary\",\n          \"primary\"\n        ],\n        \"semantic_type\": \"\",\n        \"description\": \"\"\n      }\n    },\n    {\n      \"column\": \"default\",\n      \"properties\": {\n        \"dtype\": \"category\",\n        \"num_unique_values\": 1,\n        \"samples\": [\n          \"no\"\n        ],\n        \"semantic_type\": \"\",\n        \"description\": \"\"\n      }\n    },\n    {\n      \"column\": \"balance\",\n      \"properties\": {\n        \"dtype\": \"number\",\n        \"std\": 2076,\n        \"min\": 668,\n        \"max\": 5715,\n        \"num_unique_values\": 5,\n        \"samples\": [\n          1729\n        ],\n        \"semantic_type\": \"\",\n        \"description\": \"\"\n      }\n    },\n    {\n      \"column\": \"housing\",\n      \"properties\": {\n        \"dtype\": \"category\",\n        \"num_unique_values\": 1,\n        \"samples\": [\n          \"no\"\n        ],\n        \"semantic_type\": \"\",\n        \"description\": \"\"\n      }\n    },\n    {\n      \"column\": \"loan\",\n      \"properties\": {\n        \"dtype\": \"category\",\n        \"num_unique_values\": 1,\n        \"samples\": [\n          \"no\"\n        ],\n        \"semantic_type\": \"\",\n        \"description\": \"\"\n      }\n    },\n    {\n      \"column\": \"contact\",\n      \"properties\": {\n        \"dtype\": \"category\",\n        \"num_unique_values\": 2,\n        \"samples\": [\n          \"telephone\"\n        ],\n        \"semantic_type\": \"\",\n        \"description\": \"\"\n      }\n    },\n    {\n      \"column\": \"day\",\n      \"properties\": {\n        \"dtype\": \"number\",\n        \"std\": 0,\n        \"min\": 17,\n        \"max\": 17,\n        \"num_unique_values\": 1,\n        \"samples\": [\n          17\n        ],\n        \"semantic_type\": \"\",\n        \"description\": \"\"\n      }\n    },\n    {\n      \"column\": \"month\",\n      \"properties\": {\n        \"dtype\": \"category\",\n        \"num_unique_values\": 1,\n        \"samples\": [\n          \"nov\"\n        ],\n        \"semantic_type\": \"\",\n        \"description\": \"\"\n      }\n    },\n    {\n      \"column\": \"duration\",\n      \"properties\": {\n        \"dtype\": \"number\",\n        \"std\": 342,\n        \"min\": 361,\n        \"max\": 1127,\n        \"num_unique_values\": 5,\n        \"samples\": [\n          456\n        ],\n        \"semantic_type\": \"\",\n        \"description\": \"\"\n      }\n    },\n    {\n      \"column\": \"campaign\",\n      \"properties\": {\n        \"dtype\": \"number\",\n        \"std\": 1,\n        \"min\": 2,\n        \"max\": 5,\n        \"num_unique_values\": 4,\n        \"samples\": [\n          2\n        ],\n        \"semantic_type\": \"\",\n        \"description\": \"\"\n      }\n    },\n    {\n      \"column\": \"pdays\",\n      \"properties\": {\n        \"dtype\": \"number\",\n        \"std\": 102,\n        \"min\": -1,\n        \"max\": 188,\n        \"num_unique_values\": 3,\n        \"samples\": [\n          -1\n        ],\n        \"semantic_type\": \"\",\n        \"description\": \"\"\n      }\n    },\n    {\n      \"column\": \"previous\",\n      \"properties\": {\n        \"dtype\": \"number\",\n        \"std\": 4,\n        \"min\": 0,\n        \"max\": 11,\n        \"num_unique_values\": 3,\n        \"samples\": [\n          0\n        ],\n        \"semantic_type\": \"\",\n        \"description\": \"\"\n      }\n    },\n    {\n      \"column\": \"poutcome\",\n      \"properties\": {\n        \"dtype\": \"string\",\n        \"num_unique_values\": 3,\n        \"samples\": [\n          \"unknown\"\n        ],\n        \"semantic_type\": \"\",\n        \"description\": \"\"\n      }\n    },\n    {\n      \"column\": \"y\",\n      \"properties\": {\n        \"dtype\": \"category\",\n        \"num_unique_values\": 2,\n        \"samples\": [\n          \"no\"\n        ],\n        \"semantic_type\": \"\",\n        \"description\": \"\"\n      }\n    }\n  ]\n}"
            }
          },
          "metadata": {},
          "execution_count": 2
        }
      ],
      "source": [
        "# Import customer satisfaction datataset\n",
        "\n",
        "dataset = pd.read_csv('bank.csv',delimiter=';')\n",
        "dataset.tail()\n"
      ]
    },
    {
      "cell_type": "markdown",
      "source": [
        "Data Inladen:\n",
        "\n",
        "bank.csv is een marketing dataset met klantinformatie en binary classification (y kolom: 0 = geen deposito, 1 = deposito).\n",
        "\n",
        "Waarom belangrijk?\n",
        "\n",
        "Deze dataset is ongebalanceerd, wat invloed kan hebben op de prestaties van je model."
      ],
      "metadata": {
        "id": "GjX5pa1W6wIA"
      }
    },
    {
      "cell_type": "code",
      "execution_count": null,
      "metadata": {
        "colab": {
          "base_uri": "https://localhost:8080/",
          "height": 467
        },
        "id": "atXm5qmG3mup",
        "outputId": "5fb1c101-d58c-42cc-d150-b2e91dbbcc6e"
      },
      "outputs": [
        {
          "output_type": "execute_result",
          "data": {
            "text/plain": [
              "<Axes: xlabel='y', ylabel='count'>"
            ]
          },
          "metadata": {},
          "execution_count": 3
        },
        {
          "output_type": "display_data",
          "data": {
            "text/plain": [
              "<Figure size 640x480 with 1 Axes>"
            ],
            "image/png": "[encoded data removed]"
          },
          "metadata": {}
        }
      ],
      "source": [
        "sns.countplot(x='y',data=dataset)"
      ]
    },
    {
      "cell_type": "code",
      "execution_count": null,
      "metadata": {
        "id": "bwzDriEH3muq"
      },
      "outputs": [],
      "source": [
        "# removing duration feature\n",
        "\n",
        "dataset.drop('duration',axis=1, inplace=True)\n"
      ]
    },
    {
      "cell_type": "markdown",
      "source": [
        "\n",
        "Waarom?\n",
        "\n",
        "duration is een leakage feature, omdat het de gespreksduur bevat, wat sterk correleert met de kans op een positief resultaat (y).\n",
        "\n"
      ],
      "metadata": {
        "id": "CbEnK8bs605m"
      }
    },
    {
      "cell_type": "code",
      "execution_count": null,
      "metadata": {
        "colab": {
          "base_uri": "https://localhost:8080/"
        },
        "id": "MvlquCiD3muq",
        "outputId": "8c962861-145d-41af-94d5-956b634a6caf"
      },
      "outputs": [
        {
          "output_type": "stream",
          "name": "stderr",
          "text": [
            "<ipython-input-5-243a3b73421b>:3: FutureWarning: A value is trying to be set on a copy of a DataFrame or Series through chained assignment using an inplace method.\n",
            "The behavior will change in pandas 3.0. This inplace method will never work because the intermediate object on which we are setting values always behaves as a copy.\n",
            "\n",
            "For example, when doing 'df[col].method(value, inplace=True)', try using 'df.method({col: value}, inplace=True)' or df[col] = df[col].method(value) instead, to perform the operation inplace on the original object.\n",
            "\n",
            "\n",
            "  dataset.y.replace({'no':0,'yes':1},inplace=True)\n",
            "<ipython-input-5-243a3b73421b>:3: FutureWarning: Downcasting behavior in `replace` is deprecated and will be removed in a future version. To retain the old behavior, explicitly call `result.infer_objects(copy=False)`. To opt-in to the future behavior, set `pd.set_option('future.no_silent_downcasting', True)`\n",
            "  dataset.y.replace({'no':0,'yes':1},inplace=True)\n",
            "<ipython-input-5-243a3b73421b>:4: FutureWarning: A value is trying to be set on a copy of a DataFrame or Series through chained assignment using an inplace method.\n",
            "The behavior will change in pandas 3.0. This inplace method will never work because the intermediate object on which we are setting values always behaves as a copy.\n",
            "\n",
            "For example, when doing 'df[col].method(value, inplace=True)', try using 'df.method({col: value}, inplace=True)' or df[col] = df[col].method(value) instead, to perform the operation inplace on the original object.\n",
            "\n",
            "\n",
            "  dataset.loan.replace({'no':0,'yes':1},inplace=True)\n",
            "<ipython-input-5-243a3b73421b>:4: FutureWarning: Downcasting behavior in `replace` is deprecated and will be removed in a future version. To retain the old behavior, explicitly call `result.infer_objects(copy=False)`. To opt-in to the future behavior, set `pd.set_option('future.no_silent_downcasting', True)`\n",
            "  dataset.loan.replace({'no':0,'yes':1},inplace=True)\n",
            "<ipython-input-5-243a3b73421b>:5: FutureWarning: A value is trying to be set on a copy of a DataFrame or Series through chained assignment using an inplace method.\n",
            "The behavior will change in pandas 3.0. This inplace method will never work because the intermediate object on which we are setting values always behaves as a copy.\n",
            "\n",
            "For example, when doing 'df[col].method(value, inplace=True)', try using 'df.method({col: value}, inplace=True)' or df[col] = df[col].method(value) instead, to perform the operation inplace on the original object.\n",
            "\n",
            "\n",
            "  dataset.default.replace({'no':0,'yes':1},inplace=True)\n",
            "<ipython-input-5-243a3b73421b>:5: FutureWarning: Downcasting behavior in `replace` is deprecated and will be removed in a future version. To retain the old behavior, explicitly call `result.infer_objects(copy=False)`. To opt-in to the future behavior, set `pd.set_option('future.no_silent_downcasting', True)`\n",
            "  dataset.default.replace({'no':0,'yes':1},inplace=True)\n",
            "<ipython-input-5-243a3b73421b>:6: FutureWarning: A value is trying to be set on a copy of a DataFrame or Series through chained assignment using an inplace method.\n",
            "The behavior will change in pandas 3.0. This inplace method will never work because the intermediate object on which we are setting values always behaves as a copy.\n",
            "\n",
            "For example, when doing 'df[col].method(value, inplace=True)', try using 'df.method({col: value}, inplace=True)' or df[col] = df[col].method(value) instead, to perform the operation inplace on the original object.\n",
            "\n",
            "\n",
            "  dataset.housing.replace({'no':0,'yes':1},inplace=True)\n",
            "<ipython-input-5-243a3b73421b>:6: FutureWarning: Downcasting behavior in `replace` is deprecated and will be removed in a future version. To retain the old behavior, explicitly call `result.infer_objects(copy=False)`. To opt-in to the future behavior, set `pd.set_option('future.no_silent_downcasting', True)`\n",
            "  dataset.housing.replace({'no':0,'yes':1},inplace=True)\n"
          ]
        }
      ],
      "source": [
        "# yes -> 1 and no -> 0\n",
        "\n",
        "dataset.y.replace({'no':0,'yes':1},inplace=True)\n",
        "dataset.loan.replace({'no':0,'yes':1},inplace=True)\n",
        "dataset.default.replace({'no':0,'yes':1},inplace=True)\n",
        "dataset.housing.replace({'no':0,'yes':1},inplace=True)"
      ]
    },
    {
      "cell_type": "markdown",
      "source": [
        "Wat gebeurt hier?\n",
        "\n",
        "Zet tekstuele waarden (yes, no) om in binaire waarden (0, 1).\n",
        "\n",
        "Waarom belangrijk?\n",
        "\n",
        "Machine learning modellen werken beter met numerieke d"
      ],
      "metadata": {
        "id": "uHHk7yCV7LYp"
      }
    },
    {
      "cell_type": "code",
      "execution_count": null,
      "metadata": {
        "id": "XoN9L5A33muq"
      },
      "outputs": [],
      "source": [
        "# One-hot encoding\n",
        "\n",
        "# job\n",
        "dataset = pd.concat([dataset,pd.get_dummies(dataset['job'], prefix='job')],axis=1)\n",
        "dataset.drop(['job'],axis=1, inplace=True)\n",
        "\n",
        "# marital\n",
        "dataset = pd.concat([dataset,pd.get_dummies(dataset['marital'], prefix='marital')],axis=1)\n",
        "dataset.drop(['marital'],axis=1, inplace=True)\n",
        "\n",
        "# education\n",
        "dataset = pd.concat([dataset,pd.get_dummies(dataset['education'], prefix='education')],axis=1)\n",
        "dataset.drop(['education'],axis=1, inplace=True)\n",
        "\n",
        "# contact\n",
        "dataset = pd.concat([dataset,pd.get_dummies(dataset['contact'], prefix='contact')],axis=1)\n",
        "dataset.drop(['contact'],axis=1, inplace=True)\n",
        "\n",
        "# month\n",
        "dataset = pd.concat([dataset,pd.get_dummies(dataset['month'], prefix='month')],axis=1)\n",
        "dataset.drop(['month'],axis=1, inplace=True)\n",
        "\n",
        "# poutcome\n",
        "dataset = pd.concat([dataset,pd.get_dummies(dataset['poutcome'], prefix='poutcome')],axis=1)\n",
        "dataset.drop(['poutcome'],axis=1, inplace=True)"
      ]
    },
    {
      "cell_type": "markdown",
      "source": [
        "Wat gebeurt hier?\n",
        "\n",
        "Voert One-Hot Encoding uit voor categorische features.\n",
        "\n",
        "Waarom belangrijk?\n",
        "\n",
        "Zorgt ervoor dat categorische variabelen worden omgezet naar binaire features, wat essentieel is voor lineaire modellen zoals Logistic Regression."
      ],
      "metadata": {
        "id": "5s65maSl7QTJ"
      }
    },
    {
      "cell_type": "code",
      "execution_count": null,
      "metadata": {
        "colab": {
          "base_uri": "https://localhost:8080/"
        },
        "id": "oYYVJEwb3muq",
        "outputId": "d9b55ff5-2b9e-4184-9adc-70c05c823671"
      },
      "outputs": [
        {
          "output_type": "stream",
          "name": "stdout",
          "text": [
            "(45211, 47)\n",
            "(45211,)\n"
          ]
        }
      ],
      "source": [
        "# Split features and targets\n",
        "\n",
        "y = dataset.y.values\n",
        "X = dataset.drop('y',axis=1)\n",
        "\n",
        "print(X.shape)\n",
        "print(y.shape)"
      ]
    },
    {
      "cell_type": "code",
      "execution_count": null,
      "metadata": {
        "id": "oanUTtVo3muq"
      },
      "outputs": [],
      "source": [
        "# Split into training set and test set\n",
        "\n",
        "X_train, X_test, y_train, y_test = train_test_split(X, y, test_size = 10000, random_state =0)\n"
      ]
    },
    {
      "cell_type": "code",
      "execution_count": null,
      "metadata": {
        "id": "wE6c5u1o3muq"
      },
      "outputs": [],
      "source": [
        "# MinMax scaling\n",
        "\n",
        "\n",
        "X_train = X_train.astype('float64')\n",
        "X_test = X_test.astype('float64')\n",
        "\n",
        "scaler = preprocessing.MinMaxScaler().fit(X_train)\n",
        "X_train = scaler.transform(X_train)\n",
        "X_test = scaler.transform(X_test)\n"
      ]
    },
    {
      "cell_type": "code",
      "execution_count": null,
      "metadata": {
        "colab": {
          "base_uri": "https://localhost:8080/",
          "height": 722
        },
        "id": "Q3ZnkIhu3mur",
        "outputId": "d4d5f81e-4cb6-4226-a139-26a381f2a7ee"
      },
      "outputs": [
        {
          "output_type": "stream",
          "name": "stdout",
          "text": [
            "\n",
            "\n",
            "              precision    recall  f1-score   support\n",
            "\n",
            "           0       0.90      0.99      0.94      8824\n",
            "           1       0.62      0.18      0.27      1176\n",
            "\n",
            "    accuracy                           0.89     10000\n",
            "   macro avg       0.76      0.58      0.61     10000\n",
            "weighted avg       0.87      0.89      0.86     10000\n",
            "\n",
            "[[8694  130]\n",
            " [ 968  208]]\n",
            "89.02\n"
          ]
        },
        {
          "output_type": "display_data",
          "data": {
            "text/plain": [
              "<Figure size 640x480 with 1 Axes>"
            ],
            "image/png": "[encoded data removed]"
          },
          "metadata": {}
        }
      ],
      "source": [
        "# Logistic regression\n",
        "\n",
        "model = LogisticRegression(C=1, solver='liblinear')\n",
        "\n",
        "# train\n",
        "\n",
        "model.fit(X_train,y_train)\n",
        "\n",
        "# test\n",
        "\n",
        "y_pred = model.predict(X_test)\n",
        "\n",
        "\n",
        "print('\\n')\n",
        "print(classification_report(y_test, y_pred))\n",
        "\n",
        "cf = confusion_matrix(y_test, y_pred)\n",
        "\n",
        "print(cf)\n",
        "print(accuracy_score(y_test, y_pred) * 100)\n",
        "\n",
        "# ROC\n",
        "probs = model.predict_proba(X_test)\n",
        "# calculate the fpr and tpr for all thresholds of the classification\n",
        "\n",
        "preds = probs[:,1]\n",
        "fpr, tpr, threshold = metrics.roc_curve(y_test, preds)\n",
        "roc_auc = metrics.auc(fpr, tpr)\n",
        "\n",
        "# plot\n",
        "#import matplotlib.pyplot as plt\n",
        "plt.title('Receiver Operating Characteristic')\n",
        "plt.plot(fpr, tpr, 'b', label = 'AUC = %0.2f' % roc_auc)\n",
        "plt.legend(loc = 'lower right')\n",
        "plt.plot([0, 1], [0, 1],'r--')\n",
        "plt.xlim([0, 1])\n",
        "plt.ylim([0, 1])\n",
        "plt.ylabel('True Positive Rate')\n",
        "plt.xlabel('False Positive Rate')\n",
        "plt.show()"
      ]
    },
    {
      "cell_type": "markdown",
      "source": [
        "C = 1: Matige regularisatie.\n",
        "\n",
        "Solver: liblinear is efficiënt voor kleinere datasets. Classification Report: Precision, Recall, F1-Score.\n",
        "\n",
        "Confusion Matrix: Correcte en incorrecte voorspellingen.\n",
        "\n",
        "Accuracy: Percentage correcte voorspellingen ROC Curve: Toont de trade-off tussen true positives en false positives.\n",
        "\n",
        "AUC Score: Gebied onder de ROC curve, maat voor modelkwaliteit.\n",
        "\n"
      ],
      "metadata": {
        "id": "AcljQJZ77age"
      }
    },
    {
      "cell_type": "markdown",
      "source": [],
      "metadata": {
        "id": "yAlW1lHx7yaM"
      }
    },
    {
      "cell_type": "code",
      "execution_count": null,
      "metadata": {
        "colab": {
          "base_uri": "https://localhost:8080/"
        },
        "id": "REqch_-t3mur",
        "outputId": "8180a1af-4f21-42d4-b793-d51156d8c2d5"
      },
      "outputs": [
        {
          "output_type": "execute_result",
          "data": {
            "text/plain": [
              "array([[0.96372853, 0.03627147],\n",
              "       [0.82709415, 0.17290585],\n",
              "       [0.95765611, 0.04234389],\n",
              "       ...,\n",
              "       [0.92293797, 0.07706203],\n",
              "       [0.95776658, 0.04223342],\n",
              "       [0.9370383 , 0.0629617 ]])"
            ]
          },
          "metadata": {},
          "execution_count": 11
        }
      ],
      "source": [
        "model.predict_proba(X_test)"
      ]
    },
    {
      "cell_type": "code",
      "execution_count": null,
      "metadata": {
        "id": "6IsZkOes3mur"
      },
      "outputs": [],
      "source": []
    },
    {
      "cell_type": "code",
      "execution_count": null,
      "metadata": {
        "colab": {
          "base_uri": "https://localhost:8080/",
          "height": 487
        },
        "id": "--zPzbAX3mur",
        "outputId": "0ae80ab6-ac43-4ed3-8c8d-8db6d47d503f"
      },
      "outputs": [
        {
          "output_type": "execute_result",
          "data": {
            "text/plain": [
              "<sklearn.metrics._plot.precision_recall_curve.PrecisionRecallDisplay at 0x7f8caffab550>"
            ]
          },
          "metadata": {},
          "execution_count": 12
        },
        {
          "output_type": "display_data",
          "data": {
            "text/plain": [
              "<Figure size 640x480 with 1 Axes>"
            ],
            "image/png": "[encoded data removed]"
          },
          "metadata": {}
        }
      ],
      "source": [
        "# Precision - Recall\n",
        "\n",
        "precision, recall, _ = precision_recall_curve(y_test, y_pred)\n",
        "disp = PrecisionRecallDisplay(precision=precision, recall=recall)\n",
        "disp.plot()"
      ]
    },
    {
      "cell_type": "markdown",
      "source": [
        "### **Precision-Recall Curve Uitleg**\n",
        "\n",
        "```python\n",
        "precision, recall, _ = precision_recall_curve(y_test, y_pred)\n",
        "disp = PrecisionRecallDisplay(precision=precision, recall=recall)\n",
        "disp.plot()\n",
        "```\n",
        "\n",
        "---\n",
        "\n",
        "#### **1. Wat is een Precision-Recall Curve?**\n",
        "\n",
        "Een **Precision-Recall (PR) Curve** toont de relatie tussen **Precision** (positieve voorspellingen die correct waren) en **Recall** (werkelijke positieve gevallen die correct zijn voorspeld) bij verschillende **thresholds**. Dit is vooral nuttig bij **ongebalanceerde** datasets zoals in de **bank** dataset, waar de meerderheidsklasse (geen deposito) veel groter is dan de minderheidsklasse (wel deposito).\n",
        "\n",
        "---\n",
        "\n",
        "#### **2. Begrippen (Precision, Recall)**\n",
        "\n",
        "* **Precision (Positieve Voorspellende Waarde)**\n",
        "\n",
        "$$\n",
        "\\text{Precision} = \\frac{TP}{TP + FP}\n",
        "$$\n",
        "\n",
        "* **Recall (True Positive Rate, Sensitivity)**\n",
        "\n",
        "$$\n",
        "\\text{Recall} = \\frac{TP}{TP + FN}\n",
        "$$\n",
        "\n",
        "* **True Positives (TP)**: Correct positief geclassificeerde samples.\n",
        "* **False Positives (FP)**: Negatief sample foutief als positief geclassificeerd.\n",
        "* **False Negatives (FN)**: Positief sample foutief als negatief geclassificeerd.\n",
        "\n",
        "---\n",
        "\n",
        "#### **3. Code Uitleg**\n",
        "\n",
        "##### **Berekenen van Precision en Recall bij Verschillende Thresholds**\n",
        "\n",
        "```python\n",
        "precision, recall, _ = precision_recall_curve(y_test, y_pred)\n",
        "```\n",
        "\n",
        "* **`precision_recall_curve()`** neemt als input:\n",
        "\n",
        "  * **`y_test`**: De werkelijke labels.\n",
        "  * **`y_pred`**: De binaire voorspellingen (0 of 1).\n",
        "\n",
        "* **Output:**\n",
        "\n",
        "  * **`precision`**: Lijst met precision waarden bij verschillende thresholds.\n",
        "  * **`recall`**: Lijst met recall waarden bij dezelfde thresholds.\n",
        "  * **`_`**: De gebruikte thresholds (niet nodig voor de plot).\n",
        "\n",
        "---\n",
        "\n",
        "##### **Plotten van de Precision-Recall Curve**\n",
        "\n",
        "```python\n",
        "disp = PrecisionRecallDisplay(precision=precision, recall=recall)\n",
        "disp.plot()\n",
        "```\n",
        "\n",
        "* **PrecisionRecallDisplay:**\n",
        "\n",
        "  * Een handige class in **scikit-learn** om de precision-recall curve te plotten.\n",
        "* **Waarom belangrijk?**\n",
        "\n",
        "  * Laat zien hoe je model presteert bij verschillende **thresholds**.\n",
        "* **Typische Uitslag:**\n",
        "\n",
        "  * **Hoge Precision, Lage Recall:** Je model is **voorzichtig** (weinig false positives).\n",
        "  * **Hoge Recall, Lage Precision:** Je model is **agressief** (veel false positives).\n",
        "\n",
        "---\n",
        "\n",
        "#### **4. Wat je moet Verwachten in de Plot**\n",
        "\n",
        "* **Perfect Model:** Precision blijft **1.0** tot recall **1.0** bereikt.\n",
        "* **Slecht Model:** Precision en recall dalen snel, geen duidelijke scheiding.\n",
        "* **Gebalanceerd Model:** Goede balans tussen precision en recall, met een **gladde** curve.\n",
        "\n",
        "---\n",
        "\n",
        "#### **5. Alternatief: Precision-Recall AUC**\n",
        "\n",
        "Als je de **area under the curve (AUC)** van je precision-recall curve wilt weten:\n",
        "\n",
        "```python\n",
        "from sklearn.metrics import auc\n",
        "pr_auc = auc(recall, precision)\n",
        "print(\"Precision-Recall AUC:\", pr_auc)\n",
        "```\n",
        "\n",
        "* **Waarom belangrijk?**\n",
        "\n",
        "  * Een hogere AUC betekent een beter presterend model.\n",
        "\n",
        "---\n",
        "\n",
        "\n"
      ],
      "metadata": {
        "id": "-PC4gxkX70R2"
      }
    },
    {
      "cell_type": "markdown",
      "metadata": {
        "id": "NPzNsJvH3mur"
      },
      "source": [
        "## Classweight balancing\n",
        "\n",
        "As the data is unbalanced, the neural netwerk tends to have a preference for the majority class.\n",
        "One of the approaches is to use classweight balancing. This means that during the training phase, a misclassification of a sample from the minority class results in a higher loss."
      ]
    },
    {
      "cell_type": "code",
      "execution_count": null,
      "metadata": {
        "colab": {
          "base_uri": "https://localhost:8080/",
          "height": 722
        },
        "id": "TLMWYqo63mur",
        "outputId": "6d319af5-db1b-454d-8f21-098e735370e3"
      },
      "outputs": [
        {
          "output_type": "stream",
          "name": "stdout",
          "text": [
            "\n",
            "\n",
            "              precision    recall  f1-score   support\n",
            "\n",
            "           0       0.96      0.20      0.34      8824\n",
            "           1       0.14      0.94      0.24      1176\n",
            "\n",
            "    accuracy                           0.29     10000\n",
            "   macro avg       0.55      0.57      0.29     10000\n",
            "weighted avg       0.86      0.29      0.33     10000\n",
            "\n",
            "[[1805 7019]\n",
            " [  74 1102]]\n",
            "29.07\n"
          ]
        },
        {
          "output_type": "display_data",
          "data": {
            "text/plain": [
              "<Figure size 640x480 with 1 Axes>"
            ],
            "image/png": "[encoded data removed]"
          },
          "metadata": {}
        }
      ],
      "source": [
        "# Logistic regression\n",
        "\n",
        "model = LogisticRegression(C=1, solver='liblinear',class_weight={0:1,1:25})\n",
        "\n",
        "# train\n",
        "\n",
        "model.fit(X_train,y_train)\n",
        "\n",
        "# test\n",
        "\n",
        "y_pred = model.predict(X_test)\n",
        "\n",
        "\n",
        "print('\\n')\n",
        "print(classification_report(y_test, y_pred))\n",
        "\n",
        "cf = confusion_matrix(y_test, y_pred)\n",
        "\n",
        "print(cf)\n",
        "print(accuracy_score(y_test, y_pred) * 100)\n",
        "\n",
        "# ROC\n",
        "probs = model.predict_proba(X_test)\n",
        "# calculate the fpr and tpr for all thresholds of the classification\n",
        "\n",
        "preds = probs[:,1]\n",
        "fpr, tpr, threshold = metrics.roc_curve(y_test, preds)\n",
        "roc_auc = metrics.auc(fpr, tpr)\n",
        "\n",
        "# plot\n",
        "#import matplotlib.pyplot as plt\n",
        "plt.title('Receiver Operating Characteristic')\n",
        "plt.plot(fpr, tpr, 'b', label = 'AUC = %0.2f' % roc_auc)\n",
        "plt.legend(loc = 'lower right')\n",
        "plt.plot([0, 1], [0, 1],'r--')\n",
        "plt.xlim([0, 1])\n",
        "plt.ylim([0, 1])\n",
        "plt.ylabel('True Positive Rate')\n",
        "plt.xlabel('False Positive Rate')\n",
        "plt.show()\n"
      ]
    },
    {
      "cell_type": "markdown",
      "source": [
        "# Logistic regression met class weight balancing\n",
        "\n",
        "model = LogisticRegression(C=1, solver='liblinear', class_weight={0: 1, 1: 25})\n",
        "\n",
        "# Train het model\n",
        "model.fit(X_train, y_train)\n",
        "\n",
        "# Test het model\n",
        "y_pred = model.predict(X_test)\n",
        "\n",
        "# Evaluatie\n",
        "print('\\n')\n",
        "print(classification_report(y_test, y_pred))\n",
        "\n",
        "cf = confusion_matrix(y_test, y_pred)\n",
        "print(cf)\n",
        "print(accuracy_score(y_test, y_pred) * 100)\n",
        "Wat gebeurt hier?\n",
        "\n",
        "Het model krijgt een hogere straf (25x) voor fouten in de minderheidsklasse (1), vergeleken met de meerderheidsklasse (0).\n",
        "\n",
        "Waarom deze verhouding (1:25)?\n",
        "\n",
        "Deze waarde is meestal gebaseerd op de verhouding van je dataset, maar kan ook experimenteel bepaald worden. Effect:\n",
        "\n",
        "Verhoogt meestal de Recall en Precision voor de minderheidsklasse.\n",
        "\n",
        "Nadeel:\n",
        "\n",
        "Kan leiden tot meer false positives\n",
        "\n"
      ],
      "metadata": {
        "id": "qjY-M3zh8Kx6"
      }
    },
    {
      "cell_type": "markdown",
      "metadata": {
        "id": "8xQqFQDY3mur"
      },
      "source": [
        "## Undersampling with Tomek links\n",
        "\n"
      ]
    },
    {
      "cell_type": "code",
      "execution_count": null,
      "metadata": {
        "colab": {
          "base_uri": "https://localhost:8080/",
          "height": 722
        },
        "id": "7h9aRh9F3mus",
        "outputId": "55864660-f5d8-499c-ec5c-367a38d053e7"
      },
      "outputs": [
        {
          "output_type": "stream",
          "name": "stdout",
          "text": [
            "\n",
            "\n",
            "              precision    recall  f1-score   support\n",
            "\n",
            "           0       0.90      0.98      0.94      8824\n",
            "           1       0.58      0.23      0.33      1176\n",
            "\n",
            "    accuracy                           0.89     10000\n",
            "   macro avg       0.74      0.60      0.63     10000\n",
            "weighted avg       0.87      0.89      0.87     10000\n",
            "\n",
            "[[8626  198]\n",
            " [ 908  268]]\n",
            "88.94\n"
          ]
        },
        {
          "output_type": "display_data",
          "data": {
            "text/plain": [
              "<Figure size 640x480 with 1 Axes>"
            ],
            "image/png": "[encoded data removed]"
          },
          "metadata": {}
        }
      ],
      "source": [
        "from imblearn.under_sampling import TomekLinks\n",
        "tl = TomekLinks()\n",
        "X_resampled, y_resampled= tl.fit_resample(X_train, y_train)\n",
        "\n",
        "# Logistic regression\n",
        "\n",
        "model = LogisticRegression(C=1, solver='liblinear')\n",
        "\n",
        "# train\n",
        "\n",
        "model.fit(X_resampled,y_resampled)\n",
        "\n",
        "# test\n",
        "\n",
        "y_pred = model.predict(X_test)\n",
        "\n",
        "\n",
        "print('\\n')\n",
        "print(classification_report(y_test, y_pred))\n",
        "\n",
        "cf = confusion_matrix(y_test, y_pred)\n",
        "\n",
        "print(cf)\n",
        "print(accuracy_score(y_test, y_pred) * 100)\n",
        "\n",
        "# ROC\n",
        "probs = model.predict_proba(X_test)\n",
        "# calculate the fpr and tpr for all thresholds of the classification\n",
        "\n",
        "preds = probs[:,1]\n",
        "fpr, tpr, threshold = metrics.roc_curve(y_test, preds)\n",
        "roc_auc = metrics.auc(fpr, tpr)\n",
        "\n",
        "# plot\n",
        "#import matplotlib.pyplot as plt\n",
        "plt.title('Receiver Operating Characteristic')\n",
        "plt.plot(fpr, tpr, 'b', label = 'AUC = %0.2f' % roc_auc)\n",
        "plt.legend(loc = 'lower right')\n",
        "plt.plot([0, 1], [0, 1],'r--')\n",
        "plt.xlim([0, 1])\n",
        "plt.ylim([0, 1])\n",
        "plt.ylabel('True Positive Rate')\n",
        "plt.xlabel('False Positive Rate')\n",
        "plt.show()\n",
        "\n"
      ]
    },
    {
      "cell_type": "markdown",
      "source": [
        "2. Undersampling met Tomek Links\n",
        "Wat zijn Tomek Links?\n",
        "Tomek Links zijn paar samples, waarbij een meerderheidsklasse sample de nabijheid van een minderheidsklasse sample verstoort.\n",
        "\n",
        "Het verwijderen van deze links maakt de scheidingslijn duidelijker voor je model.\n",
        "\n",
        "Wat gebeurt hier?\n",
        "\n",
        "fit_resample() verwijdert Tomek links uit de training set.\n",
        "\n",
        "Dit vermindert de overlapping tussen klassen.\n",
        "\n",
        "Effect:\n",
        "\n",
        "Vermindert overlapping tussen klassen.\n",
        "\n",
        "Nadeel:\n",
        "\n",
        "Kan veel minderheidsklasse samples verwijderen als de klassen sterk overlappen.\n",
        "\n"
      ],
      "metadata": {
        "id": "qV7flvdU8hjG"
      }
    },
    {
      "cell_type": "code",
      "execution_count": null,
      "metadata": {
        "colab": {
          "base_uri": "https://localhost:8080/"
        },
        "id": "yMXyU2NM3mus",
        "outputId": "02dd9b63-ccdf-4978-fac2-cc567162dd1f"
      },
      "outputs": [
        {
          "output_type": "stream",
          "name": "stdout",
          "text": [
            "Collecting imblearn\n",
            "  Downloading imblearn-0.0-py2.py3-none-any.whl.metadata (355 bytes)\n",
            "Requirement already satisfied: imbalanced-learn in /usr/local/lib/python3.11/dist-packages (from imblearn) (0.13.0)\n",
            "Requirement already satisfied: numpy<3,>=1.24.3 in /usr/local/lib/python3.11/dist-packages (from imbalanced-learn->imblearn) (2.0.2)\n",
            "Requirement already satisfied: scipy<2,>=1.10.1 in /usr/local/lib/python3.11/dist-packages (from imbalanced-learn->imblearn) (1.15.2)\n",
            "Requirement already satisfied: scikit-learn<2,>=1.3.2 in /usr/local/lib/python3.11/dist-packages (from imbalanced-learn->imblearn) (1.6.1)\n",
            "Requirement already satisfied: sklearn-compat<1,>=0.1 in /usr/local/lib/python3.11/dist-packages (from imbalanced-learn->imblearn) (0.1.3)\n",
            "Requirement already satisfied: joblib<2,>=1.1.1 in /usr/local/lib/python3.11/dist-packages (from imbalanced-learn->imblearn) (1.4.2)\n",
            "Requirement already satisfied: threadpoolctl<4,>=2.0.0 in /usr/local/lib/python3.11/dist-packages (from imbalanced-learn->imblearn) (3.6.0)\n",
            "Downloading imblearn-0.0-py2.py3-none-any.whl (1.9 kB)\n",
            "Installing collected packages: imblearn\n",
            "Successfully installed imblearn-0.0\n"
          ]
        }
      ],
      "source": [
        "! pip install imblearn"
      ]
    },
    {
      "cell_type": "code",
      "execution_count": null,
      "metadata": {
        "colab": {
          "base_uri": "https://localhost:8080/",
          "height": 487
        },
        "id": "mz26qAoc3mus",
        "outputId": "d57c7db9-9ef0-48cd-9e34-130ba022e6c7"
      },
      "outputs": [
        {
          "output_type": "execute_result",
          "data": {
            "text/plain": [
              "<sklearn.metrics._plot.precision_recall_curve.PrecisionRecallDisplay at 0x7f8caf866310>"
            ]
          },
          "metadata": {},
          "execution_count": 16
        },
        {
          "output_type": "display_data",
          "data": {
            "text/plain": [
              "<Figure size 640x480 with 1 Axes>"
            ],
            "image/png": "[encoded data removed]"
          },
          "metadata": {}
        }
      ],
      "source": [
        "precision, recall, _ = precision_recall_curve(y_test, y_pred)\n",
        "disp = PrecisionRecallDisplay(precision=precision, recall=recall)\n",
        "disp.plot()"
      ]
    },
    {
      "cell_type": "markdown",
      "metadata": {
        "id": "t0NmfAaq3mus"
      },
      "source": [
        "## Oversampling met SMOTE\n",
        "\n",
        "Another way of dealing with unbalanced data is to oversample the data. This means that the data will be balanced by creating additional samples from the minority class until equilibrium."
      ]
    },
    {
      "cell_type": "code",
      "execution_count": null,
      "metadata": {
        "colab": {
          "base_uri": "https://localhost:8080/"
        },
        "id": "kYfeqDQi3mus",
        "outputId": "4d0fb09c-a611-4660-837a-759ec75cc4d0"
      },
      "outputs": [
        {
          "output_type": "stream",
          "name": "stdout",
          "text": [
            "(62196,)\n"
          ]
        }
      ],
      "source": [
        "# Oversampling with SMOTE\n",
        "\n",
        "from imblearn.over_sampling import SMOTE\n",
        "X_resampled, y_resampled = SMOTE( ).fit_resample(X_train, y_train)\n",
        "\n",
        "print(y_resampled.shape)\n",
        "\n"
      ]
    },
    {
      "cell_type": "markdown",
      "source": [
        "Wat gebeurt hier?\n",
        "\n",
        "fit_resample() maakt synthetische samples voor de minderheidsklasse.\n",
        "\n",
        "Gebalanceerde training set zonder verlies van meerderheidssamples."
      ],
      "metadata": {
        "id": "xed6rALQ8znI"
      }
    },
    {
      "cell_type": "code",
      "execution_count": null,
      "metadata": {
        "colab": {
          "base_uri": "https://localhost:8080/",
          "height": 722
        },
        "id": "OJgeo1Ak3mus",
        "outputId": "eab2c2e7-ce4f-49f3-e71f-e409f331afd6"
      },
      "outputs": [
        {
          "output_type": "stream",
          "name": "stdout",
          "text": [
            "\n",
            "\n",
            "              precision    recall  f1-score   support\n",
            "\n",
            "           0       0.94      0.76      0.84      8824\n",
            "           1       0.26      0.64      0.37      1176\n",
            "\n",
            "    accuracy                           0.74     10000\n",
            "   macro avg       0.60      0.70      0.60     10000\n",
            "weighted avg       0.86      0.74      0.78     10000\n",
            "\n",
            "[[6682 2142]\n",
            " [ 429  747]]\n",
            "74.29\n"
          ]
        },
        {
          "output_type": "display_data",
          "data": {
            "text/plain": [
              "<Figure size 640x480 with 1 Axes>"
            ],
            "image/png": "[encoded data removed]"
          },
          "metadata": {}
        }
      ],
      "source": [
        "# Logistic regression\n",
        "\n",
        "model = LogisticRegression(C=1, solver='liblinear')\n",
        "\n",
        "# train\n",
        "\n",
        "model.fit(X_resampled,y_resampled)\n",
        "\n",
        "# test\n",
        "\n",
        "y_pred = model.predict(X_test)\n",
        "\n",
        "\n",
        "print('\\n')\n",
        "print(classification_report(y_test, y_pred))\n",
        "\n",
        "cf = confusion_matrix(y_test, y_pred)\n",
        "\n",
        "print(cf)\n",
        "print(accuracy_score(y_test, y_pred) * 100)\n",
        "\n",
        "# ROC\n",
        "probs = model.predict_proba(X_test)\n",
        "# calculate the fpr and tpr for all thresholds of the classification\n",
        "\n",
        "preds = probs[:,1]\n",
        "fpr, tpr, threshold = metrics.roc_curve(y_test, preds)\n",
        "roc_auc = metrics.auc(fpr, tpr)\n",
        "\n",
        "# plot\n",
        "#import matplotlib.pyplot as plt\n",
        "plt.title('Receiver Operating Characteristic')\n",
        "plt.plot(fpr, tpr, 'b', label = 'AUC = %0.2f' % roc_auc)\n",
        "plt.legend(loc = 'lower right')\n",
        "plt.plot([0, 1], [0, 1],'r--')\n",
        "plt.xlim([0, 1])\n",
        "plt.ylim([0, 1])\n",
        "plt.ylabel('True Positive Rate')\n",
        "plt.xlabel('False Positive Rate')\n",
        "plt.show()"
      ]
    },
    {
      "cell_type": "markdown",
      "source": [
        "Effect:\n",
        "\n",
        "Verhoogt de Recall aanzienlijk voor de minderheidsklasse.\n",
        "\n",
        "Nadeel:\n",
        "\n",
        "Kan leiden tot overfitting als de synthetische samples te dicht bij elkaar liggen.\n",
        "\n",
        "4. Vergelijking van de Technieken\n",
        "Methode\tVoordeel\tNadeel\n",
        "Class Weight Balancing\tMakkelijk te implementeren\tKan leiden tot hoge false positive rates\n",
        "Tomek Links\tVerwijdert overlapping\tKan waardevolle minderheidsdata verwijderen\n",
        "SMOTE\tMaakt nieuwe samples\tKan overfitting veroorzaken\n",
        "\n",
        "\n",
        "\n",
        "\n",
        "\n",
        "\n",
        "\n",
        "\n",
        "\n",
        "\n",
        "\n",
        "\n"
      ],
      "metadata": {
        "id": "z8XEG2zV87Ej"
      }
    },
    {
      "cell_type": "code",
      "execution_count": null,
      "metadata": {
        "colab": {
          "base_uri": "https://localhost:8080/",
          "height": 487
        },
        "id": "4wvAVLiJ3mus",
        "outputId": "2675a4de-ddf3-4edd-8052-cea19c9f2b02"
      },
      "outputs": [
        {
          "output_type": "execute_result",
          "data": {
            "text/plain": [
              "<sklearn.metrics._plot.precision_recall_curve.PrecisionRecallDisplay at 0x7f8cabb747d0>"
            ]
          },
          "metadata": {},
          "execution_count": 19
        },
        {
          "output_type": "display_data",
          "data": {
            "text/plain": [
              "<Figure size 640x480 with 1 Axes>"
            ],
            "image/png": "[encoded data removed]"
          },
          "metadata": {}
        }
      ],
      "source": [
        "precision, recall, _ = precision_recall_curve(y_test, y_pred)\n",
        "disp = PrecisionRecallDisplay(precision=precision, recall=recall)\n",
        "disp.plot()"
      ]
    },
    {
      "cell_type": "code",
      "execution_count": null,
      "metadata": {
        "id": "6hvVM5mw3mus"
      },
      "outputs": [],
      "source": []
    }
  ],
  "metadata": {
    "kernelspec": {
      "display_name": "Python 3",
      "language": "python",
      "name": "python3"
    },
    "language_info": {
      "codemirror_mode": {
        "name": "ipython",
        "version": 3
      },
      "file_extension": ".py",
      "mimetype": "text/x-python",
      "name": "python",
      "nbconvert_exporter": "python",
      "pygments_lexer": "ipython3",
      "version": "3.10.15"
    },
    "varInspector": {
      "cols": {
        "lenName": 16,
        "lenType": 16,
        "lenVar": 40
      },
      "kernels_config": {
        "python": {
          "delete_cmd_postfix": "",
          "delete_cmd_prefix": "del ",
          "library": "var_list.py",
          "varRefreshCmd": "print(var_dic_list())"
        },
        "r": {
          "delete_cmd_postfix": ") ",
          "delete_cmd_prefix": "rm(",
          "library": "var_list.r",
          "varRefreshCmd": "cat(var_dic_list()) "
        }
      },
      "types_to_exclude": [
        "module",
        "function",
        "builtin_function_or_method",
        "instance",
        "_Feature"
      ],
      "window_display": false
    },
    "colab": {
      "provenance": [],
      "include_colab_link": true
    }
  },
  "nbformat": 4,
  "nbformat_minor": 0
}